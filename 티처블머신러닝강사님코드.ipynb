{
 "cells": [
  {
   "cell_type": "code",
   "execution_count": 2,
   "metadata": {},
   "outputs": [
    {
     "name": "stdout",
     "output_type": "stream",
     "text": [
      "0\n"
     ]
    },
    {
     "data": {
      "text/plain": [
       "'정상'"
      ]
     },
     "execution_count": 2,
     "metadata": {},
     "output_type": "execute_result"
    }
   ],
   "source": [
    "import tensorflow as tf\n",
    "model=tf.keras.models.load_model('c:/data/keras_model.h5', compile=False)\n",
    "\n",
    "from PIL import Image\n",
    "import numpy as np\n",
    "\n",
    "\n",
    "img=Image.open('c:/data/다운로드.png').resize((224,224)).convert('RGB')\n",
    "img=np.array(img)\n",
    "img=img/127.5-1   # 티처블머신러닝 스케일링\n",
    "img=np.reshape(img, (1,224,224,3))\n",
    "\n",
    "result1=model.predict(img)    # 내 자료는 현재 0은 정상, 1은 졸음임\n",
    "result2=np.argmax(result1)   # 출력물이 0이면 0번째 위치값이 가장 크다는 뜻임.\n",
    "print(result2)\n",
    "class_name=['정상','졸음']  # 0일때, 1일때 어떤 값인지 별도의 레이블을 제작함\n",
    "class_name[result2]    # 최종출력물, 0일때는 정상이라고 출력, 1일때는 졸음 이라고 출력"
   ]
  },
  {
   "cell_type": "code",
   "execution_count": 3,
   "metadata": {},
   "outputs": [
    {
     "name": "stdout",
     "output_type": "stream",
     "text": [
      "Downloading data from https://www.cs.toronto.edu/~kriz/cifar-10-python.tar.gz\n",
      "170500096/170498071 [==============================] - 12s 0us/step\n",
      "170508288/170498071 [==============================] - 12s 0us/step\n"
     ]
    }
   ],
   "source": [
    "import tensorflow as tf\n",
    "\n",
    "from tensorflow.keras import datasets, layers, models\n",
    "import matplotlib.pyplot as plt\n",
    "\n",
    "(train_images, train_labels), (test_images, test_labels) = datasets.cifar10.load_data()\n",
    "\n",
    "# Normalize pixel values to be between 0 and 1\n",
    "train_images, test_images = train_images / 255.0, test_images / 255.0"
   ]
  },
  {
   "cell_type": "code",
   "execution_count": 4,
   "metadata": {},
   "outputs": [
    {
     "name": "stdout",
     "output_type": "stream",
     "text": [
      "Epoch 1/10\n",
      "1563/1563 [==============================] - 7s 3ms/step - loss: 1.5519 - accuracy: 0.4348 - val_loss: 1.2847 - val_accuracy: 0.5432\n",
      "Epoch 2/10\n",
      "1563/1563 [==============================] - 5s 3ms/step - loss: 1.1721 - accuracy: 0.5833 - val_loss: 1.1280 - val_accuracy: 0.5981\n",
      "Epoch 3/10\n",
      "1563/1563 [==============================] - 4s 3ms/step - loss: 1.0197 - accuracy: 0.6392 - val_loss: 0.9960 - val_accuracy: 0.6419\n",
      "Epoch 4/10\n",
      "1563/1563 [==============================] - 11s 7ms/step - loss: 0.9196 - accuracy: 0.6767 - val_loss: 0.9421 - val_accuracy: 0.6688\n",
      "Epoch 5/10\n",
      "1563/1563 [==============================] - 4s 2ms/step - loss: 0.8412 - accuracy: 0.7042 - val_loss: 0.8927 - val_accuracy: 0.6888\n",
      "Epoch 6/10\n",
      "1563/1563 [==============================] - 4s 3ms/step - loss: 0.7798 - accuracy: 0.7255 - val_loss: 0.8790 - val_accuracy: 0.6914\n",
      "Epoch 7/10\n",
      "1563/1563 [==============================] - 12s 8ms/step - loss: 0.7313 - accuracy: 0.7426 - val_loss: 0.9277 - val_accuracy: 0.6845\n",
      "Epoch 8/10\n",
      "1563/1563 [==============================] - 13s 8ms/step - loss: 0.6847 - accuracy: 0.7593 - val_loss: 0.9687 - val_accuracy: 0.6848\n",
      "Epoch 9/10\n",
      "1563/1563 [==============================] - 14s 9ms/step - loss: 0.6424 - accuracy: 0.7754 - val_loss: 0.8625 - val_accuracy: 0.7047\n",
      "Epoch 10/10\n",
      "1563/1563 [==============================] - 12s 7ms/step - loss: 0.6091 - accuracy: 0.7849 - val_loss: 0.8539 - val_accuracy: 0.7160\n"
     ]
    }
   ],
   "source": [
    "model = models.Sequential()\n",
    "model.add(layers.Conv2D(32, (3, 3), activation='relu', input_shape=(32, 32, 3)))\n",
    "model.add(layers.MaxPooling2D((2, 2)))\n",
    "model.add(layers.Conv2D(64, (3, 3), activation='relu'))\n",
    "model.add(layers.MaxPooling2D((2, 2)))\n",
    "model.add(layers.Conv2D(64, (3, 3), activation='relu'))\n",
    "model.add(layers.Flatten())\n",
    "model.add(layers.Dense(64, activation='relu'))\n",
    "model.add(layers.Dense(10))\n",
    "\n",
    "model.compile(optimizer='adam',\n",
    "              loss=tf.keras.losses.SparseCategoricalCrossentropy(from_logits=True),\n",
    "              metrics=['accuracy'])\n",
    "\n",
    "history = model.fit(train_images, train_labels, epochs=10, \n",
    "                    validation_data=(test_images, test_labels))"
   ]
  }
 ],
 "metadata": {
  "kernelspec": {
   "display_name": "gpu",
   "language": "python",
   "name": "python3"
  },
  "language_info": {
   "codemirror_mode": {
    "name": "ipython",
    "version": 3
   },
   "file_extension": ".py",
   "mimetype": "text/x-python",
   "name": "python",
   "nbconvert_exporter": "python",
   "pygments_lexer": "ipython3",
   "version": "3.9.16"
  },
  "orig_nbformat": 4
 },
 "nbformat": 4,
 "nbformat_minor": 2
}
